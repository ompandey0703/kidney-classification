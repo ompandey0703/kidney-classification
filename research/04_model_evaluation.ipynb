{
 "cells": [
  {
   "cell_type": "code",
   "execution_count": 22,
   "id": "5e1e9b83",
   "metadata": {},
   "outputs": [
    {
     "data": {
      "text/plain": [
       "'/home/om/Desktop/dl-project'"
      ]
     },
     "execution_count": 22,
     "metadata": {},
     "output_type": "execute_result"
    }
   ],
   "source": [
    "import os \n",
    "os.chdir(\"/home/om/Desktop/dl-project\")\n",
    "\n",
    "%pwd"
   ]
  },
  {
   "cell_type": "code",
   "execution_count": null,
   "id": "2d2c8395",
   "metadata": {},
   "outputs": [],
   "source": [
    "from dataclasses import dataclass\n",
    "from pathlib import Path\n",
    "@dataclass(frozen=True)\n",
    "class EvaluationConfig:\n",
    "    \"\"\"\n",
    "    Configuration for evaluation of the model.\n",
    "    \"\"\"\n",
    "    path_of_model: Path\n",
    "    training_data_path: Path\n",
    "    all_params: dict\n",
    "    params_image_size: list\n",
    "    params_batch_size: int\n",
    "    "
   ]
  },
  {
   "cell_type": "code",
   "execution_count": 24,
   "id": "405614f9",
   "metadata": {},
   "outputs": [],
   "source": [
    "from cnnClassifier.constants import *\n",
    "from cnnClassifier.utils.common import read_yaml, create_directories\n",
    "import tensorflow as tf"
   ]
  },
  {
   "cell_type": "code",
   "execution_count": 25,
   "id": "b6609412",
   "metadata": {},
   "outputs": [],
   "source": [
    "# from cnnClassifier.entity.config_entity import EvaluationConfig\n",
    "\n",
    "class ConfigurationManager:\n",
    "    def __init__(self, config_filepath=CONFIG_FILE_PATH, params_filepath=PARAMS_FILE_PATH):\n",
    "        self.config = read_yaml(config_filepath)\n",
    "        self.params = read_yaml(params_filepath)\n",
    "        create_directories([self.config.artifacts_root])\n",
    "\n",
    "    def get_evaluation_config(self) -> EvaluationConfig:\n",
    "        eval_config = EvaluationConfig(\n",
    "            path_of_model=Path(self.config.train_model.model_path),\n",
    "            training_data_path=Path(\n",
    "                os.path.join(\n",
    "                    self.config.data_ingestion.unzip_dir,\n",
    "                    \"kidney-CT_Scan/CT-KIDNEY-DATASET-Normal-Cyst-Tumor-Stone\"\n",
    "                )\n",
    "            ),\n",
    "            all_params=dict(self.params.prepare_base_model),\n",
    "            params_image_size=self.params.prepare_base_model.IMAGE_SIZE,\n",
    "            params_batch_size=self.params.prepare_base_model.BATCH_SIZE\n",
    "        )\n",
    "        return eval_config"
   ]
  },
  {
   "cell_type": "code",
   "execution_count": 26,
   "id": "e6843c41",
   "metadata": {},
   "outputs": [],
   "source": [
    "import tensorflow as tf\n",
    "from cnnClassifier import logger\n",
    "# from cnnClassifier.entity.config_entity import EvaluationConfig\n",
    "\n",
    "class ModelEvaluation:\n",
    "    def __init__(self, config: EvaluationConfig):\n",
    "        self.config = config\n",
    "\n",
    "    def load_model(self):\n",
    "        logger.info(f\"Loading model from {self.config.path_of_model}\")\n",
    "        model = tf.keras.models.load_model(self.config.path_of_model, compile=False)\n",
    "        model.compile(optimizer='adam', loss='categorical_crossentropy', metrics=['accuracy'])\n",
    "        logger.info(\"Model loaded successfully.\")\n",
    "        return model\n",
    "\n",
    "    def get_data_generator(self):\n",
    "        from tensorflow.keras.preprocessing import image_dataset_from_directory\n",
    "        IMG_SIZE = self.config.params_image_size[:2]\n",
    "        BATCH_SIZE = self.config.params_batch_size\n",
    "        DATA_DIR = self.config.training_data_path\n",
    "\n",
    "        val_ds = image_dataset_from_directory(\n",
    "            DATA_DIR,\n",
    "            validation_split=0.2,\n",
    "            subset=\"validation\",\n",
    "            seed=42,\n",
    "            image_size=IMG_SIZE,\n",
    "            batch_size=BATCH_SIZE,\n",
    "            label_mode=\"categorical\"\n",
    "        )\n",
    "        return val_ds\n",
    "\n",
    "    def evaluate(self):\n",
    "        model = self.load_model()\n",
    "        val_ds = self.get_data_generator()\n",
    "        logger.info(\"Evaluating model on validation set...\")\n",
    "        results = model.evaluate(val_ds, return_dict=True)\n",
    "        logger.info(f\"Evaluation results: {results}\")\n",
    "        return results"
   ]
  },
  {
   "cell_type": "code",
   "execution_count": null,
   "id": "2ea1b842",
   "metadata": {},
   "outputs": [
    {
     "name": "stdout",
     "output_type": "stream",
     "text": [
      "2025-07-07 11:59:25,829 - INFO - 4165767654 - >>>>>> Model Evaluation started <<<<<<\n",
      "2025-07-07 11:59:25,837 - INFO - common - Created directory: artifacts\n",
      "2025-07-07 11:59:27,235 - INFO - _client - HTTP Request: GET https://dagshub.com/api/v1/repos/ompandey0703/kidney-classification \"HTTP/1.1 200 OK\"\n"
     ]
    },
    {
     "data": {
      "text/html": [
       "<pre style=\"white-space:pre;overflow-x:auto;line-height:normal;font-family:Menlo,'DejaVu Sans Mono',consolas,'Courier New',monospace\">Initialized MLflow to track repo <span style=\"color: #008000; text-decoration-color: #008000\">\"ompandey0703/kidney-classification\"</span>\n",
       "</pre>\n"
      ],
      "text/plain": [
       "Initialized MLflow to track repo \u001b[32m\"ompandey0703/kidney-classification\"\u001b[0m\n"
      ]
     },
     "metadata": {},
     "output_type": "display_data"
    },
    {
     "name": "stdout",
     "output_type": "stream",
     "text": [
      "2025-07-07 11:59:27,246 - INFO - helpers - Initialized MLflow to track repo \"ompandey0703/kidney-classification\"\n"
     ]
    },
    {
     "data": {
      "text/html": [
       "<pre style=\"white-space:pre;overflow-x:auto;line-height:normal;font-family:Menlo,'DejaVu Sans Mono',consolas,'Courier New',monospace\">Repository ompandey0703/kidney-classification initialized!\n",
       "</pre>\n"
      ],
      "text/plain": [
       "Repository ompandey0703/kidney-classification initialized!\n"
      ]
     },
     "metadata": {},
     "output_type": "display_data"
    },
    {
     "name": "stdout",
     "output_type": "stream",
     "text": [
      "2025-07-07 11:59:27,248 - INFO - helpers - Repository ompandey0703/kidney-classification initialized!\n",
      "2025-07-07 11:59:27,249 - INFO - 2103913484 - Loading model from artifacts/train_model/model.h5\n",
      "2025-07-07 11:59:27,882 - INFO - 2103913484 - Model loaded successfully.\n",
      "Found 12446 files belonging to 4 classes.\n",
      "Using 2489 files for validation.\n",
      "2025-07-07 11:59:28,365 - INFO - 2103913484 - Evaluating model on validation set...\n",
      "\u001b[1m78/78\u001b[0m \u001b[32m━━━━━━━━━━━━━━━━━━━━\u001b[0m\u001b[37m\u001b[0m \u001b[1m338s\u001b[0m 4s/step - accuracy: 0.9935 - loss: 0.0916\n",
      "2025-07-07 12:05:06,611 - INFO - 2103913484 - Evaluation results: {'accuracy': 0.9959823489189148, 'loss': 0.06957823038101196}\n",
      "2025-07-07 12:05:06,612 - INFO - 4165767654 - Model evaluation results: {'accuracy': 0.9959823489189148, 'loss': 0.06957823038101196}\n",
      "2025-07-07 12:05:06,748 - WARNING - connectionpool - Retrying (Retry(total=4, connect=5, read=4, redirect=5, status=5)) after connection broken by 'RemoteDisconnected('Remote end closed connection without response')': /ompandey0703/kidney-classification.mlflow/api/2.0/mlflow/runs/create\n",
      "2025-07-07 12:05:09,260 - INFO - 4165767654 - >>>>>> Model Evaluation completed <<<<<<\n"
     ]
    }
   ],
   "source": [
    "# from cnnClassifier.config.configuration import ConfigurationManager\n",
    "# from cnnClassifier.components.model_evaluation import ModelEvaluation\n",
    "from cnnClassifier import logger\n",
    "import mlflow\n",
    "import dagshub\n",
    "\n",
    "STAGE_NAME = \"Model Evaluation\"\n",
    "\n",
    "class ModelEvaluationPipeline:\n",
    "    \"\"\"\n",
    "    Pipeline for evaluating the trained model and logging metrics to MLflow.\n",
    "    \"\"\"\n",
    "\n",
    "    def __init__(self, config=None):\n",
    "        self.config = config or ConfigurationManager()\n",
    "\n",
    "    def main(self):\n",
    "        try:\n",
    "            # Initialize dagshub/MLflow connection\n",
    "            dagshub.init(\n",
    "                repo_owner='ompandey0703',\n",
    "                repo_name='kidney-classification',\n",
    "                mlflow=True\n",
    "            )\n",
    "\n",
    "            eval_config = self.config.get_evaluation_config()\n",
    "            evaluator = ModelEvaluation(config=eval_config)\n",
    "            results = evaluator.evaluate()\n",
    "            logger.info(f\"Model evaluation results: {results}\")\n",
    "\n",
    "            # Log metrics to MLflow\n",
    "            with mlflow.start_run(run_name=\"model-evaluation\"):\n",
    "                 # Log parameters (example: model name, batch size, image size, etc.)\n",
    "                mlflow.log_param(\"model_name\", eval_config.all_params.get(\"MODEL_NAME\", \"unknown\"))\n",
    "                mlflow.log_param(\"batch_size\", eval_config.params_batch_size)\n",
    "                mlflow.log_param(\"image_size\", eval_config.params_image_size)\n",
    "                # Log all params from all_params dict\n",
    "                for k, v in eval_config.all_params.items():\n",
    "                    mlflow.log_param(k, v)\n",
    "    \n",
    "                for k, v in results.items():\n",
    "                    mlflow.log_metric(k, v)\n",
    "\n",
    "        except Exception as e:\n",
    "            logger.exception(f\"Exception occurred during model evaluation: {e}\")\n",
    "            raise e\n",
    "\n",
    "if __name__ == \"__main__\":\n",
    "    try:\n",
    "        logger.info(f\">>>>>> {STAGE_NAME} started <<<<<<\")\n",
    "        config_manager = ConfigurationManager()\n",
    "        pipeline = ModelEvaluationPipeline(config=config_manager)\n",
    "        pipeline.main()\n",
    "        logger.info(f\">>>>>> {STAGE_NAME} completed <<<<<<\")\n",
    "    except Exception as e:\n",
    "        logger.exception(f\"An error occurred in the {STAGE_NAME} stage: {e}\")\n",
    "        raise e"
   ]
  },
  {
   "cell_type": "code",
   "execution_count": 28,
   "id": "050760ee",
   "metadata": {},
   "outputs": [
    {
     "name": "stdout",
     "output_type": "stream",
     "text": [
      "2.18.0\n"
     ]
    }
   ],
   "source": [
    "import tensorflow as tf\n",
    "print(tf.__version__)"
   ]
  },
  {
   "cell_type": "code",
   "execution_count": null,
   "id": "5252e342",
   "metadata": {},
   "outputs": [],
   "source": []
  }
 ],
 "metadata": {
  "kernelspec": {
   "display_name": "kidney",
   "language": "python",
   "name": "python3"
  },
  "language_info": {
   "codemirror_mode": {
    "name": "ipython",
    "version": 3
   },
   "file_extension": ".py",
   "mimetype": "text/x-python",
   "name": "python",
   "nbconvert_exporter": "python",
   "pygments_lexer": "ipython3",
   "version": "3.10.12"
  }
 },
 "nbformat": 4,
 "nbformat_minor": 5
}
