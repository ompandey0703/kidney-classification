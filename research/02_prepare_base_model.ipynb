{
 "cells": [
  {
   "cell_type": "code",
   "execution_count": 33,
   "id": "800f2b83",
   "metadata": {},
   "outputs": [
    {
     "data": {
      "text/plain": [
       "'/home/om/Desktop/dl-project'"
      ]
     },
     "execution_count": 33,
     "metadata": {},
     "output_type": "execute_result"
    }
   ],
   "source": [
    "import os\n",
    "%pwd\n",
    "os.chdir(\"/home/om/Desktop/dl-project\")\n",
    "%pwd"
   ]
  },
  {
   "cell_type": "code",
   "execution_count": 34,
   "id": "ae0a178e",
   "metadata": {},
   "outputs": [],
   "source": [
    "import pandas as pd\n",
    "df = pd.read_csv(\"/home/om/Desktop/dl-project/artifacts/data_ingestion/kidneyData.csv\")\n"
   ]
  },
  {
   "cell_type": "code",
   "execution_count": 35,
   "id": "d42ec6b0",
   "metadata": {},
   "outputs": [
    {
     "data": {
      "text/plain": [
       "Index(['Unnamed: 0', 'image_id', 'path', 'diag', 'target', 'Class'], dtype='object')"
      ]
     },
     "execution_count": 35,
     "metadata": {},
     "output_type": "execute_result"
    }
   ],
   "source": [
    "df.columns"
   ]
  },
  {
   "cell_type": "code",
   "execution_count": 36,
   "id": "9e43c69d",
   "metadata": {},
   "outputs": [
    {
     "data": {
      "text/plain": [
       "array(['Tumor', 'Normal', 'Stone', 'Cyst'], dtype=object)"
      ]
     },
     "execution_count": 36,
     "metadata": {},
     "output_type": "execute_result"
    }
   ],
   "source": [
    "df['Class'].unique()"
   ]
  },
  {
   "cell_type": "code",
   "execution_count": 37,
   "id": "cc2c9024",
   "metadata": {},
   "outputs": [],
   "source": [
    "from dataclasses import dataclass\n",
    "\n",
    "@dataclass(frozen=True)\n",
    "class PrepareBaseModelConfig:\n",
    "    root_dir: str\n",
    "    base_model_path: str\n",
    "    updated_model_path: str\n",
    "    params_image_size: list\n",
    "    params_weights: str\n",
    "    params_learning_rate: float\n",
    "    params_include_top: bool\n",
    "    params_classes: int"
   ]
  },
  {
   "cell_type": "code",
   "execution_count": 38,
   "id": "97c81379",
   "metadata": {},
   "outputs": [],
   "source": [
    "from cnnClassifier.constants import *\n",
    "from cnnClassifier.utils.common import read_yaml, create_directories\n"
   ]
  },
  {
   "cell_type": "code",
   "execution_count": 39,
   "id": "2e83b818",
   "metadata": {},
   "outputs": [],
   "source": [
    "class ConfigurationManager:\n",
    "    def __init__(self, config_filepath=CONFIG_FILE_PATH, params_filepath=PARAMS_FILE_PATH):\n",
    "        self.config = read_yaml(config_filepath)\n",
    "        self.params = read_yaml(params_filepath)\n",
    "        create_directories([self.config.artifacts_root])\n",
    "\n",
    "    def get_prepare_base_model_config(self) -> PrepareBaseModelConfig:\n",
    "        config = self.config.prepare_base_model\n",
    "        params = self.params.prepare_base_model\n",
    "\n",
    "        prepare_base_model_config = PrepareBaseModelConfig(\n",
    "            root_dir=config.root_dir,\n",
    "            base_model_path=config.base_model_path,\n",
    "            updated_model_path=config.updated_model_path,\n",
    "            params_image_size=params.IMAGE_SIZE,\n",
    "            params_weights=params.WEIGHTS,\n",
    "            params_learning_rate=params.LEARNING_RATE,\n",
    "            params_include_top=params.INCLUDE_TOP,\n",
    "            params_classes=params.CLASSES\n",
    "        )\n",
    "        return prepare_base_model_config"
   ]
  },
  {
   "cell_type": "code",
   "execution_count": 40,
   "id": "1c535998",
   "metadata": {},
   "outputs": [],
   "source": [
    "import os\n",
    "from zipfile import ZipFile\n",
    "import urllib.request as request\n",
    "import tensorflow as tf\n",
    "from cnnClassifier import logger"
   ]
  },
  {
   "cell_type": "code",
   "execution_count": null,
   "id": "f74a914b",
   "metadata": {},
   "outputs": [],
   "source": [
    "class PrepareBaseModel:\n",
    "    def __init__(self, config: PrepareBaseModelConfig):\n",
    "        self.config = config\n",
    "\n",
    "    def get_base_model(self):\n",
    "        logger.info(\"Preparing the base model...\")\n",
    "        # Download weights if needed, else use 'imagenet' or path\n",
    "        weights = self.config.params_weights\n",
    "        if weights == \"imagenet\":\n",
    "            weights_arg = \"imagenet\"\n",
    "        else:\n",
    "            weights_arg = self.config.base_model_path\n",
    "\n",
    "        base_model = tf.keras.applications.vgg16.VGG16(\n",
    "            input_shape=tuple(self.config.params_image_size),\n",
    "            include_top=self.config.params_include_top,\n",
    "            weights=weights_arg\n",
    "        )\n",
    "        os.makedirs(os.path.dirname(self.config.base_model_path), exist_ok=True)\n",
    "        base_model.save(self.config.base_model_path)\n",
    "        \n",
    "        return base_model\n",
    "\n",
    "    def _prepare_full_model(self, classes, freeze_all, freeze_till, learning_rate):\n",
    "        logger.info(\"Preparing the full model...\")\n",
    "        base_model = self.get_base_model()\n",
    "\n",
    "        if freeze_all:\n",
    "            for layer in base_model.layers:\n",
    "                layer.trainable = False\n",
    "        elif freeze_till is not None:\n",
    "            for layer in base_model.layers[:freeze_till]:\n",
    "                layer.trainable = False\n",
    "\n",
    "        x = base_model.output\n",
    "        x = tf.keras.layers.Flatten()(x)\n",
    "        x = tf.keras.layers.Dense(1024, activation='relu')(x)\n",
    "        output = tf.keras.layers.Dense(classes, activation='softmax')(x)\n",
    "\n",
    "        model = tf.keras.models.Model(inputs=base_model.input, outputs=output)\n",
    "\n",
    "        model.compile(\n",
    "            optimizer=tf.keras.optimizers.Adam(learning_rate=learning_rate),\n",
    "            loss='sparse_categorical_crossentropy',\n",
    "            metrics=['accuracy']\n",
    "        )\n",
    "        model.summary()\n",
    "        return model\n",
    "\n",
    "    def update_base_model(self):\n",
    "        logger.info(\"Updating the base model...\")\n",
    "        model = self._prepare_full_model(\n",
    "            classes=self.config.params_classes,\n",
    "            freeze_all=True,\n",
    "            freeze_till=None,\n",
    "            learning_rate=self.config.params_learning_rate\n",
    "        )\n",
    "\n",
    "        os.makedirs(os.path.dirname(self.config.updated_model_path), exist_ok=True)\n",
    "        model.save(self.config.updated_model_path)\n",
    "        logger.info(f\"Updated model saved at {self.config.updated_model_path}\")\n"
   ]
  },
  {
   "cell_type": "code",
   "execution_count": 42,
   "id": "f164f3a9",
   "metadata": {},
   "outputs": [
    {
     "name": "stdout",
     "output_type": "stream",
     "text": [
      "2025-06-16 16:23:03,189 - INFO - common - Created directory: artifacts\n",
      "2025-06-16 16:23:03,191 - INFO - 2097615327 - Preparing the base model...\n",
      "Downloading data from https://storage.googleapis.com/tensorflow/keras-applications/vgg16/vgg16_weights_tf_dim_ordering_tf_kernels_notop.h5\n",
      "58889256/58889256 [==============================] - 18s 0us/step\n",
      "2025-06-16 16:23:22,481 - WARNING - saving_utils - Compiled the loaded model, but the compiled metrics have yet to be built. `model.compile_metrics` will be empty until you train or evaluate the model.\n",
      "2025-06-16 16:23:22,550 - INFO - 2097615327 - Base model saved at artifacts/prepare_base_model/base_model.h5\n",
      "2025-06-16 16:23:22,550 - INFO - 2097615327 - Updating the base model...\n",
      "2025-06-16 16:23:22,551 - INFO - 2097615327 - Preparing the full model...\n",
      "2025-06-16 16:23:22,551 - INFO - 2097615327 - Preparing the base model...\n",
      "2025-06-16 16:23:22,807 - WARNING - saving_utils - Compiled the loaded model, but the compiled metrics have yet to be built. `model.compile_metrics` will be empty until you train or evaluate the model.\n",
      "2025-06-16 16:23:22,927 - INFO - 2097615327 - Base model saved at artifacts/prepare_base_model/base_model.h5\n",
      "Model: \"model\"\n",
      "_________________________________________________________________\n",
      " Layer (type)                Output Shape              Param #   \n",
      "=================================================================\n",
      " input_2 (InputLayer)        [(None, 224, 224, 3)]     0         \n",
      "                                                                 \n",
      " block1_conv1 (Conv2D)       (None, 224, 224, 64)      1792      \n",
      "                                                                 \n",
      " block1_conv2 (Conv2D)       (None, 224, 224, 64)      36928     \n",
      "                                                                 \n",
      " block1_pool (MaxPooling2D)  (None, 112, 112, 64)      0         \n",
      "                                                                 \n",
      " block2_conv1 (Conv2D)       (None, 112, 112, 128)     73856     \n",
      "                                                                 \n",
      " block2_conv2 (Conv2D)       (None, 112, 112, 128)     147584    \n",
      "                                                                 \n",
      " block2_pool (MaxPooling2D)  (None, 56, 56, 128)       0         \n",
      "                                                                 \n",
      " block3_conv1 (Conv2D)       (None, 56, 56, 256)       295168    \n",
      "                                                                 \n",
      " block3_conv2 (Conv2D)       (None, 56, 56, 256)       590080    \n",
      "                                                                 \n",
      " block3_conv3 (Conv2D)       (None, 56, 56, 256)       590080    \n",
      "                                                                 \n",
      " block3_pool (MaxPooling2D)  (None, 28, 28, 256)       0         \n",
      "                                                                 \n",
      " block4_conv1 (Conv2D)       (None, 28, 28, 512)       1180160   \n",
      "                                                                 \n",
      " block4_conv2 (Conv2D)       (None, 28, 28, 512)       2359808   \n",
      "                                                                 \n",
      " block4_conv3 (Conv2D)       (None, 28, 28, 512)       2359808   \n",
      "                                                                 \n",
      " block4_pool (MaxPooling2D)  (None, 14, 14, 512)       0         \n",
      "                                                                 \n",
      " block5_conv1 (Conv2D)       (None, 14, 14, 512)       2359808   \n",
      "                                                                 \n",
      " block5_conv2 (Conv2D)       (None, 14, 14, 512)       2359808   \n",
      "                                                                 \n",
      " block5_conv3 (Conv2D)       (None, 14, 14, 512)       2359808   \n",
      "                                                                 \n",
      " block5_pool (MaxPooling2D)  (None, 7, 7, 512)         0         \n",
      "                                                                 \n",
      " flatten (Flatten)           (None, 25088)             0         \n",
      "                                                                 \n",
      " dense (Dense)               (None, 1024)              25691136  \n",
      "                                                                 \n",
      " dense_1 (Dense)             (None, 4)                 4100      \n",
      "                                                                 \n",
      "=================================================================\n",
      "Total params: 40,409,924\n",
      "Trainable params: 25,695,236\n",
      "Non-trainable params: 14,714,688\n",
      "_________________________________________________________________\n",
      "2025-06-16 16:23:23,288 - INFO - 2097615327 - Updated model saved at artifacts/prepare_base_model/updated_model.h5\n"
     ]
    }
   ],
   "source": [
    "# pipeline code\n",
    "try:\n",
    "    config_manager = ConfigurationManager()\n",
    "    prepare_base_model_config = config_manager.get_prepare_base_model_config()\n",
    "    \n",
    "    prepare_base_model = PrepareBaseModel(config=prepare_base_model_config)\n",
    "    prepare_base_model.get_base_model()\n",
    "    prepare_base_model.update_base_model()\n",
    "except Exception as e:\n",
    "    logger.exception(e)\n",
    "    raise e\n",
    "\n"
   ]
  },
  {
   "cell_type": "code",
   "execution_count": null,
   "id": "ae684a52",
   "metadata": {},
   "outputs": [],
   "source": []
  }
 ],
 "metadata": {
  "kernelspec": {
   "display_name": "kidney",
   "language": "python",
   "name": "python3"
  },
  "language_info": {
   "codemirror_mode": {
    "name": "ipython",
    "version": 3
   },
   "file_extension": ".py",
   "mimetype": "text/x-python",
   "name": "python",
   "nbconvert_exporter": "python",
   "pygments_lexer": "ipython3",
   "version": "3.10.12"
  }
 },
 "nbformat": 4,
 "nbformat_minor": 5
}
