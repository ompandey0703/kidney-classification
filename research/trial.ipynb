{
 "cells": [
  {
   "cell_type": "code",
   "execution_count": 1,
   "id": "db1ca396",
   "metadata": {},
   "outputs": [
    {
     "data": {
      "text/plain": [
       "'value'"
      ]
     },
     "execution_count": 1,
     "metadata": {},
     "output_type": "execute_result"
    }
   ],
   "source": [
    "from box import ConfigBox\n",
    "\n",
    "d = ConfigBox({\"key\": \"value\", \"key2\": {\"key3\": \"value3\"}})\n",
    "\n",
    "d.key"
   ]
  },
  {
   "cell_type": "code",
   "execution_count": 2,
   "id": "fe976055",
   "metadata": {},
   "outputs": [
    {
     "data": {
      "text/plain": [
       "'value3'"
      ]
     },
     "execution_count": 2,
     "metadata": {},
     "output_type": "execute_result"
    }
   ],
   "source": [
    "d.key2.key3\n"
   ]
  },
  {
   "cell_type": "code",
   "execution_count": 3,
   "id": "937b668f",
   "metadata": {},
   "outputs": [
    {
     "data": {
      "text/plain": [
       "ConfigBox({'key3': 'value3'})"
      ]
     },
     "execution_count": 3,
     "metadata": {},
     "output_type": "execute_result"
    }
   ],
   "source": [
    "d.key2"
   ]
  },
  {
   "cell_type": "code",
   "execution_count": 9,
   "id": "61416414",
   "metadata": {},
   "outputs": [
    {
     "name": "stdout",
     "output_type": "stream",
     "text": [
      "2\n",
      "11\n"
     ]
    }
   ],
   "source": [
    "from ensure import ensure_annotations\n",
    "\n",
    "def mul(x: int, y: int) -> int:\n",
    "   return x * y\n",
    "print(mul(1, 2))  # Output: 3\n",
    "print(mul(\"1\", 2))  # Output: 12 (not type-safe)"
   ]
  },
  {
   "cell_type": "code",
   "execution_count": 13,
   "id": "4da6d908",
   "metadata": {},
   "outputs": [
    {
     "name": "stdout",
     "output_type": "stream",
     "text": [
      "2\n"
     ]
    },
    {
     "ename": "EnsureError",
     "evalue": "Argument x of type <class 'str'> to <function mul at 0x73344841f6d0> does not match annotation type <class 'int'>",
     "output_type": "error",
     "traceback": [
      "\u001b[0;31m---------------------------------------------------------------------------\u001b[0m",
      "\u001b[0;31mEnsureError\u001b[0m                               Traceback (most recent call last)",
      "Cell \u001b[0;32mIn[13], line 6\u001b[0m\n\u001b[1;32m      3\u001b[0m     \u001b[38;5;28;01mreturn\u001b[39;00m x \u001b[38;5;241m*\u001b[39m y\n\u001b[1;32m      5\u001b[0m \u001b[38;5;28mprint\u001b[39m(mul(\u001b[38;5;241m1\u001b[39m, \u001b[38;5;241m2\u001b[39m))  \u001b[38;5;66;03m# Output: 3\u001b[39;00m\n\u001b[0;32m----> 6\u001b[0m \u001b[38;5;28mprint\u001b[39m(\u001b[43mmul\u001b[49m\u001b[43m(\u001b[49m\u001b[38;5;124;43m\"\u001b[39;49m\u001b[38;5;124;43m1\u001b[39;49m\u001b[38;5;124;43m\"\u001b[39;49m\u001b[43m,\u001b[49m\u001b[43m \u001b[49m\u001b[38;5;241;43m2\u001b[39;49m\u001b[43m)\u001b[49m)  \u001b[38;5;66;03m# Raises TypeError: Argument 'x' must be of type 'int', not 'str'\u001b[39;00m\n",
      "File \u001b[0;32m~/Desktop/dl-project/kidney/lib/python3.10/site-packages/ensure/main.py:845\u001b[0m, in \u001b[0;36mWrappedFunctionReturn.__call__\u001b[0;34m(self, *args, **kwargs)\u001b[0m\n\u001b[1;32m    840\u001b[0m     \u001b[38;5;28;01mif\u001b[39;00m \u001b[38;5;129;01mnot\u001b[39;00m \u001b[38;5;28misinstance\u001b[39m(value, templ):\n\u001b[1;32m    841\u001b[0m         msg \u001b[38;5;241m=\u001b[39m (\n\u001b[1;32m    842\u001b[0m             \u001b[38;5;124m\"\u001b[39m\u001b[38;5;124mArgument \u001b[39m\u001b[38;5;132;01m{arg}\u001b[39;00m\u001b[38;5;124m of type \u001b[39m\u001b[38;5;132;01m{valt}\u001b[39;00m\u001b[38;5;124m to \u001b[39m\u001b[38;5;132;01m{f}\u001b[39;00m\u001b[38;5;124m \u001b[39m\u001b[38;5;124m\"\u001b[39m\n\u001b[1;32m    843\u001b[0m             \u001b[38;5;124m\"\u001b[39m\u001b[38;5;124mdoes not match annotation type \u001b[39m\u001b[38;5;132;01m{t}\u001b[39;00m\u001b[38;5;124m\"\u001b[39m\n\u001b[1;32m    844\u001b[0m         )\n\u001b[0;32m--> 845\u001b[0m         \u001b[38;5;28;01mraise\u001b[39;00m EnsureError(msg\u001b[38;5;241m.\u001b[39mformat(\n\u001b[1;32m    846\u001b[0m             arg\u001b[38;5;241m=\u001b[39marg, f\u001b[38;5;241m=\u001b[39m\u001b[38;5;28mself\u001b[39m\u001b[38;5;241m.\u001b[39mf, t\u001b[38;5;241m=\u001b[39mtempl, valt\u001b[38;5;241m=\u001b[39m\u001b[38;5;28mtype\u001b[39m(value)\n\u001b[1;32m    847\u001b[0m         ))\n\u001b[1;32m    849\u001b[0m return_val \u001b[38;5;241m=\u001b[39m \u001b[38;5;28mself\u001b[39m\u001b[38;5;241m.\u001b[39mf(\u001b[38;5;241m*\u001b[39margs, \u001b[38;5;241m*\u001b[39m\u001b[38;5;241m*\u001b[39mkwargs)\n\u001b[1;32m    850\u001b[0m \u001b[38;5;28;01mif\u001b[39;00m \u001b[38;5;129;01mnot\u001b[39;00m \u001b[38;5;28misinstance\u001b[39m(return_val, \u001b[38;5;28mself\u001b[39m\u001b[38;5;241m.\u001b[39mreturn_templ):\n",
      "\u001b[0;31mEnsureError\u001b[0m: Argument x of type <class 'str'> to <function mul at 0x73344841f6d0> does not match annotation type <class 'int'>"
     ]
    }
   ],
   "source": [
    "@ensure_annotations\n",
    "def mul(x: int, y: int) -> int:\n",
    "    return x * y\n",
    "\n",
    "print(mul(1, 2))  # Output: 3\n",
    "print(mul(\"1\", 2))  # Raises TypeError: Argument 'x' must be of type 'int', not 'str'"
   ]
  },
  {
   "cell_type": "markdown",
   "id": "5894ff82",
   "metadata": {},
   "source": [
    "### Download data from gdrive\n"
   ]
  },
  {
   "cell_type": "code",
   "execution_count": 14,
   "id": "2662d52b",
   "metadata": {},
   "outputs": [
    {
     "data": {
      "text/plain": [
       "'1ch8ped7WxNktB6wIFonI65-T54pm187n'"
      ]
     },
     "execution_count": 14,
     "metadata": {},
     "output_type": "execute_result"
    }
   ],
   "source": [
    "import gdown\n",
    "\n",
    "url = \"https://drive.google.com/file/d/1ch8ped7WxNktB6wIFonI65-T54pm187n/view?usp=sharing\"\n",
    "\n",
    "file_id = url.split(\"/\")[-2]\n",
    "file_id\n",
    "\n"
   ]
  },
  {
   "cell_type": "code",
   "execution_count": 15,
   "id": "0be490f5",
   "metadata": {},
   "outputs": [
    {
     "name": "stderr",
     "output_type": "stream",
     "text": [
      "Downloading...\n",
      "From (original): https://drive.google.com/uc?/export=download&id=1ch8ped7WxNktB6wIFonI65-T54pm187n\n",
      "From (redirected): https://drive.google.com/uc?%2Fexport=download&id=1ch8ped7WxNktB6wIFonI65-T54pm187n&confirm=t&uuid=48e8298f-daab-48ad-aee9-ac41b2a2929f\n",
      "To: /home/om/Desktop/dl-project/research/kindey-CT_Scan.zip\n",
      "100%|██████████| 1.63G/1.63G [07:05<00:00, 3.83MB/s] \n"
     ]
    },
    {
     "data": {
      "text/plain": [
       "'kindey-CT_Scan.zip'"
      ]
     },
     "execution_count": 15,
     "metadata": {},
     "output_type": "execute_result"
    }
   ],
   "source": [
    "prefix = \"https://drive.google.com/uc?/export=download&id=\"\n",
    "\n",
    "gdown.download(prefix+file_id, \"kindey-CT_Scan.zip\", quiet=False)"
   ]
  },
  {
   "cell_type": "code",
   "execution_count": null,
   "id": "2cb3fa5e",
   "metadata": {},
   "outputs": [],
   "source": []
  }
 ],
 "metadata": {
  "kernelspec": {
   "display_name": "kidney",
   "language": "python",
   "name": "python3"
  },
  "language_info": {
   "codemirror_mode": {
    "name": "ipython",
    "version": 3
   },
   "file_extension": ".py",
   "mimetype": "text/x-python",
   "name": "python",
   "nbconvert_exporter": "python",
   "pygments_lexer": "ipython3",
   "version": "3.10.12"
  }
 },
 "nbformat": 4,
 "nbformat_minor": 5
}
